{
  "cells": [
    {
      "cell_type": "markdown",
      "id": "fffcbb2c-4423-4f1c-bc90-e1ac7fbaa456",
      "metadata": {
        "id": "fffcbb2c-4423-4f1c-bc90-e1ac7fbaa456"
      },
      "source": [
        "# Задания"
      ]
    },
    {
      "cell_type": "code",
      "source": [
        "from google.colab import drive\n",
        "drive.mount('/content/drive')"
      ],
      "metadata": {
        "colab": {
          "base_uri": "https://localhost:8080/"
        },
        "id": "eBPKMw5C9LFi",
        "outputId": "391972be-2580-450c-c115-be484105e0ac"
      },
      "id": "eBPKMw5C9LFi",
      "execution_count": 43,
      "outputs": [
        {
          "output_type": "stream",
          "name": "stdout",
          "text": [
            "Drive already mounted at /content/drive; to attempt to forcibly remount, call drive.mount(\"/content/drive\", force_remount=True).\n"
          ]
        }
      ]
    },
    {
      "cell_type": "markdown",
      "id": "c2d747fe-7b74-43e0-95b3-16525e9846ac",
      "metadata": {
        "id": "c2d747fe-7b74-43e0-95b3-16525e9846ac"
      },
      "source": [
        "## Task 1"
      ]
    },
    {
      "cell_type": "markdown",
      "id": "2e2f1076-fd27-4222-95e9-d3b7ff8ff36a",
      "metadata": {
        "id": "2e2f1076-fd27-4222-95e9-d3b7ff8ff36a"
      },
      "source": [
        "Напиши код, который будет решать квадратное уравнение вида\n",
        "$ ax^2 + bx + c = 0, a\\neq0$. \\\n",
        "Для этого понадобится найти дискриминант. Его формула $ D = b^2 − 4ac $"
      ]
    },
    {
      "cell_type": "markdown",
      "id": "20bf557b-21f9-46fa-b8db-76b7a96526f4",
      "metadata": {
        "id": "20bf557b-21f9-46fa-b8db-76b7a96526f4"
      },
      "source": [
        "Для начала напиши формулу нахождения корней квадратного уравнения на языке LaTeX\n",
        "\n",
        "$ x = \\frac{-b±\\sqrt{b^2-4ac}}{2a} $"
      ]
    },
    {
      "cell_type": "markdown",
      "id": "c78b058d-777d-4369-b86d-0c0fc013eba9",
      "metadata": {
        "id": "c78b058d-777d-4369-b86d-0c0fc013eba9"
      },
      "source": [
        "Теперь, когда ты вспомнил как находить корни, приступай к написанию функции:\n",
        "- Функция принимает на вход коэффициент a, b, c.\n",
        "- Функция должна возвращать кортеж корней уравнения.\n",
        "- Если корней у уравнения нет, то функция должна вернуть None"
      ]
    },
    {
      "cell_type": "code",
      "execution_count": 44,
      "id": "03b8b371-870b-42cc-8f53-1e8596406894",
      "metadata": {
        "colab": {
          "base_uri": "https://localhost:8080/"
        },
        "id": "03b8b371-870b-42cc-8f53-1e8596406894",
        "outputId": "37486801-c295-4089-e314-1c4dca8efca4"
      },
      "outputs": [
        {
          "output_type": "stream",
          "name": "stdout",
          "text": [
            "(-2.0, -2.0)\n"
          ]
        }
      ],
      "source": [
        "def quadratic_equation(a, b, c):\n",
        "    d = b * b - 4 * a * c\n",
        "    if (d < 0):\n",
        "        return None\n",
        "    else:\n",
        "        x1 = (-b) + d ** (0.5)\n",
        "        x2 = (-b) - d ** (0.5)\n",
        "        return (x1, x2)\n",
        "print(quadratic_equation(1,2,1))\n"
      ]
    },
    {
      "cell_type": "markdown",
      "id": "a8541146-f127-4482-b067-279d50975dac",
      "metadata": {
        "id": "a8541146-f127-4482-b067-279d50975dac"
      },
      "source": [
        "## Task 2"
      ]
    },
    {
      "cell_type": "markdown",
      "id": "816c48be-0963-4bd6-bd86-c8172eb8968e",
      "metadata": {
        "id": "816c48be-0963-4bd6-bd86-c8172eb8968e"
      },
      "source": [
        "Функция, которая на вход принимает cписок случайных чисел, а возвращает уже отсортированный методом Пузырька по возрастанию."
      ]
    },
    {
      "cell_type": "code",
      "source": [
        "import random"
      ],
      "metadata": {
        "id": "gIavDuwymtXl"
      },
      "id": "gIavDuwymtXl",
      "execution_count": 45,
      "outputs": []
    },
    {
      "cell_type": "code",
      "execution_count": 46,
      "id": "3fbaf6b3-876f-4ecf-9be6-d26181ee3a48",
      "metadata": {
        "colab": {
          "base_uri": "https://localhost:8080/"
        },
        "id": "3fbaf6b3-876f-4ecf-9be6-d26181ee3a48",
        "outputId": "f9c44bde-d8ad-47da-88be-8a9223b6835e"
      },
      "outputs": [
        {
          "output_type": "stream",
          "name": "stdout",
          "text": [
            "[15, 77, 16, 16, 67, 59, 79, 25, 49, 86, 54, 13, 69, 92, 52, 93, 32, 34, 69, 24, 0, 67, 11, 62, 1, 21, 8, 71, 79, 0, 91, 51, 87, 100, 49, 54, 13, 11, 8]\n",
            "[0, 0, 1, 8, 8, 11, 11, 13, 13, 15, 16, 16, 21, 24, 25, 32, 34, 49, 49, 51, 52, 54, 54, 59, 62, 67, 67, 69, 69, 71, 77, 79, 79, 86, 87, 91, 92, 93, 100]\n"
          ]
        }
      ],
      "source": [
        "\n",
        "def bubble_sort(lst):\n",
        "    lst1 = lst.copy()\n",
        "    for i in range(0, len(lst1)-1):\n",
        "      for j in range(0, len(lst1)-1-i):\n",
        "        if lst1[j] > lst1[j+1]:\n",
        "          t = lst1[j]\n",
        "          lst1[j] = lst1[j+1]\n",
        "          lst1[j+1] = t\n",
        "    return (lst1)\n",
        "\n",
        "\n",
        "\n",
        "n = random.randint(0, 100)\n",
        "h = [random.randint(0,100) for i in range(n)]\n",
        "g = bubble_sort(h)\n",
        "print(h)\n",
        "print(g)"
      ]
    },
    {
      "cell_type": "markdown",
      "id": "0026496c-03a8-4fcc-907b-dfb8f3fc0efb",
      "metadata": {
        "id": "0026496c-03a8-4fcc-907b-dfb8f3fc0efb"
      },
      "source": [
        "## Task 3"
      ]
    },
    {
      "cell_type": "markdown",
      "id": "688251be-39a3-49ed-9993-a5f9b39f430d",
      "metadata": {
        "id": "688251be-39a3-49ed-9993-a5f9b39f430d"
      },
      "source": [
        "Самое часто встречающееся слово в романе \"Война и Мир\" без учета:\n",
        "   * Пунктуации\n",
        "   * Слов **короче четырех** символов\n",
        "   * 'Стоп-слов', которые приведены в файле в stop_words_russian.txt\n",
        "   \n",
        ">Для решения задачи достаточно использовать стандартные библиотеки Python. \\\n",
        "\n",
        ">Обязательно поделись с пирами в rocket-chat сколько раз у тебя встретилось это слово. Результаты, в зависимости от предобработки, могут чуть отличаться."
      ]
    },
    {
      "cell_type": "code",
      "source": [
        "!pwd\n",
        "%cd drive/MyDrive/school21/d1\n",
        "!pwd"
      ],
      "metadata": {
        "colab": {
          "base_uri": "https://localhost:8080/"
        },
        "id": "x7fHk1w4gSjB",
        "outputId": "67410972-3b3a-4072-b25b-421be65d9cea"
      },
      "id": "x7fHk1w4gSjB",
      "execution_count": 47,
      "outputs": [
        {
          "output_type": "stream",
          "name": "stdout",
          "text": [
            "/content\n",
            "/content/drive/MyDrive/school21/d1\n",
            "/content/drive/MyDrive/school21/d1\n"
          ]
        }
      ]
    },
    {
      "cell_type": "code",
      "source": [
        "import string\n",
        "print(string.punctuation)"
      ],
      "metadata": {
        "colab": {
          "base_uri": "https://localhost:8080/"
        },
        "id": "_D4dpCB6nQxN",
        "outputId": "02fb2043-71ab-4e32-8b6e-a9f7d7d72404"
      },
      "id": "_D4dpCB6nQxN",
      "execution_count": 48,
      "outputs": [
        {
          "output_type": "stream",
          "name": "stdout",
          "text": [
            "!\"#$%&'()*+,-./:;<=>?@[\\]^_`{|}~\n"
          ]
        }
      ]
    },
    {
      "cell_type": "code",
      "execution_count": 49,
      "id": "94501d71-ee88-4f78-808d-20e79a5f3707",
      "metadata": {
        "colab": {
          "base_uri": "https://localhost:8080/"
        },
        "id": "94501d71-ee88-4f78-808d-20e79a5f3707",
        "outputId": "ac5cb05c-603e-49c6-e203-bcf4707ec1db"
      },
      "outputs": [
        {
          "output_type": "stream",
          "name": "stdout",
          "text": [
            "{'Пьер': 1401}\n"
          ]
        }
      ],
      "source": [
        "from collections import Counter\n",
        "import string\n",
        "with open('../datasets/stop_words_russian.txt') as fin:\n",
        "    stop_words = fin.read()\n",
        "stop_words = stop_words.splitlines()\n",
        "with open('../datasets/war_and_peace.txt') as fin:\n",
        "    war_and_peace = fin.read()\n",
        "war_and_peace = [x.strip(string.punctuation) for x in war_and_peace.split()]\n",
        "\n",
        "c = Counter(war_and_peace)\n",
        "c = {key:value for (key, value) in c.items()  if (len(key)>3 and not key in stop_words)}\n",
        "\n",
        "max_value = max(c.values())\n",
        "final_dict = {k: v for k, v in c.items() if v == max_value}\n",
        "\n",
        "print(final_dict)\n"
      ]
    },
    {
      "cell_type": "markdown",
      "id": "d4b6f922-7a22-4b38-8529-c92994edd38c",
      "metadata": {
        "id": "d4b6f922-7a22-4b38-8529-c92994edd38c"
      },
      "source": [
        "## Task 4"
      ]
    },
    {
      "cell_type": "markdown",
      "id": "c2cef602-ab87-47f8-ab2c-e323442b62f7",
      "metadata": {
        "id": "c2cef602-ab87-47f8-ab2c-e323442b62f7"
      },
      "source": [
        "Функция для расчета числа Фибоначчи с использованием рекурсивной функции."
      ]
    },
    {
      "cell_type": "code",
      "execution_count": 50,
      "id": "ec1c1860-774d-4583-a44b-bdc30492eead",
      "metadata": {
        "id": "ec1c1860-774d-4583-a44b-bdc30492eead",
        "colab": {
          "base_uri": "https://localhost:8080/"
        },
        "outputId": "ca8909b9-bf6b-4427-d791-e4d5b11f7b81"
      },
      "outputs": [
        {
          "output_type": "stream",
          "name": "stdout",
          "text": [
            "1\n",
            "13\n",
            "75025\n",
            "354224848179261915075\n"
          ]
        }
      ],
      "source": [
        "from functools import cache\n",
        "\n",
        "@cache\n",
        "def fib(n):\n",
        "    if (n < 1):\n",
        "      return None\n",
        "    elif ((n == 1) or (n == 2)):\n",
        "      return 1\n",
        "    else:\n",
        "      return fib(n - 1) + fib(n - 2)\n",
        "\n",
        "print(fib(1))\n",
        "print(fib(7))\n",
        "print(fib(25))\n",
        "print(fib(100))\n"
      ]
    },
    {
      "cell_type": "markdown",
      "id": "1acc3069-4b1a-4a5c-98e4-055731203d2d",
      "metadata": {
        "id": "1acc3069-4b1a-4a5c-98e4-055731203d2d"
      },
      "source": [
        "## Task 5"
      ]
    },
    {
      "cell_type": "markdown",
      "id": "944e804e-fb40-4ea2-b931-38b595d3c262",
      "metadata": {
        "id": "944e804e-fb40-4ea2-b931-38b595d3c262"
      },
      "source": [
        "Функция перевода валюты в рубли."
      ]
    },
    {
      "cell_type": "code",
      "source": [
        "import requests"
      ],
      "metadata": {
        "id": "8NqI5Mn4G1zO"
      },
      "id": "8NqI5Mn4G1zO",
      "execution_count": 51,
      "outputs": []
    },
    {
      "cell_type": "code",
      "execution_count": 52,
      "id": "570cfb71-5cf0-41fc-aae7-cf2b2812eaca",
      "metadata": {
        "id": "570cfb71-5cf0-41fc-aae7-cf2b2812eaca",
        "colab": {
          "base_uri": "https://localhost:8080/"
        },
        "outputId": "72537685-b512-4bc5-a681-cb988120415e"
      },
      "outputs": [
        {
          "output_type": "execute_result",
          "data": {
            "text/plain": [
              "299.0754"
            ]
          },
          "metadata": {},
          "execution_count": 52
        }
      ],
      "source": [
        "\n",
        "def convert2RU(currency, value):\n",
        "    r = requests.get(\"https://www.cbr-xml-daily.ru/daily_json.js\")\n",
        "    if r.status_code != 200:\n",
        "        print(\"server error\")\n",
        "        return None\n",
        "    json_res = r.json()\n",
        "    if currency not in json_res[\"Valute\"]:\n",
        "        print(\"Error! Bad currency!\")\n",
        "        return None\n",
        "    cur_val = json_res[\"Valute\"][currency][\"Value\"]\n",
        "    return value * cur_val\n",
        "\n",
        "convert2RU(\"EUR\",3)\n"
      ]
    },
    {
      "cell_type": "markdown",
      "id": "fe1396fa-7109-48ad-a255-4d4f622c18a4",
      "metadata": {
        "id": "fe1396fa-7109-48ad-a255-4d4f622c18a4"
      },
      "source": [
        "## *Task 6. Дополнительное задание"
      ]
    },
    {
      "cell_type": "markdown",
      "id": "71315701-39bd-4759-afd9-7bf20486b4f7",
      "metadata": {
        "id": "71315701-39bd-4759-afd9-7bf20486b4f7"
      },
      "source": [
        "Написание проверки на пaлиндром."
      ]
    },
    {
      "cell_type": "markdown",
      "id": "715fd45b-eb76-4eb5-bbd8-a257035fe892",
      "metadata": {
        "id": "715fd45b-eb76-4eb5-bbd8-a257035fe892"
      },
      "source": [
        "1. На вход функции _isPalindrome_ подается **число** (int). \\\n",
        "Функция возвращает **True**, если число является палидромом и **False** в противном случае."
      ]
    },
    {
      "cell_type": "code",
      "execution_count": 53,
      "id": "9f48d9c7-c413-47fb-b692-ce5ad8ed9ec1",
      "metadata": {
        "id": "9f48d9c7-c413-47fb-b692-ce5ad8ed9ec1",
        "colab": {
          "base_uri": "https://localhost:8080/"
        },
        "outputId": "f1a5575f-5315-4d18-f2bf-b4ce95cca5fc"
      },
      "outputs": [
        {
          "output_type": "execute_result",
          "data": {
            "text/plain": [
              "True"
            ]
          },
          "metadata": {},
          "execution_count": 53
        }
      ],
      "source": [
        "def isPalindrome(x: int) -> bool:\n",
        "    s = str(x)\n",
        "    if s[::] == s[::-1]:\n",
        "      return True\n",
        "    else:\n",
        "      return False\n",
        "      print(True or False)\n",
        "\n",
        "isPalindrome(8448)"
      ]
    },
    {
      "cell_type": "markdown",
      "id": "e86f6f7c-c3b0-4b92-bb3d-651dcc7d4706",
      "metadata": {
        "id": "e86f6f7c-c3b0-4b92-bb3d-651dcc7d4706"
      },
      "source": [
        "2. Реализация функции без использования перевода числа в строку."
      ]
    },
    {
      "cell_type": "code",
      "source": [
        "import math"
      ],
      "metadata": {
        "id": "DTpYcAw930b9"
      },
      "id": "DTpYcAw930b9",
      "execution_count": 54,
      "outputs": []
    },
    {
      "cell_type": "code",
      "execution_count": 55,
      "id": "35cf92fa-04c6-489b-9523-99d78dce4ba1",
      "metadata": {
        "id": "35cf92fa-04c6-489b-9523-99d78dce4ba1",
        "colab": {
          "base_uri": "https://localhost:8080/"
        },
        "outputId": "fa945d96-b54d-4ad7-f879-33b0d89b0988"
      },
      "outputs": [
        {
          "output_type": "stream",
          "name": "stdout",
          "text": [
            "False\n"
          ]
        }
      ],
      "source": [
        "\n",
        "def isPalindrome_v2(x: int) -> bool:\n",
        "    m = math.floor(math.log10(x))\n",
        "\n",
        "    while (m >= 1):\n",
        "      f = x // 10**m\n",
        "      l = x % 10\n",
        "      if not f == l:\n",
        "          return False\n",
        "      x = (x - f * (10**m)) // 10\n",
        "      m = m - 2\n",
        "    return True\n",
        "\n",
        "print(isPalindrome_v2(3434))"
      ]
    }
  ],
  "metadata": {
    "kernelspec": {
      "display_name": "Python 3 (ipykernel)",
      "language": "python",
      "name": "python3"
    },
    "language_info": {
      "codemirror_mode": {
        "name": "ipython",
        "version": 3
      },
      "file_extension": ".py",
      "mimetype": "text/x-python",
      "name": "python",
      "nbconvert_exporter": "python",
      "pygments_lexer": "ipython3",
      "version": "3.9.6"
    },
    "colab": {
      "provenance": []
    }
  },
  "nbformat": 4,
  "nbformat_minor": 5
}